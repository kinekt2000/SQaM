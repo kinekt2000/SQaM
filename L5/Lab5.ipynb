{
 "cells": [
  {
   "cell_type": "code",
   "execution_count": null,
   "metadata": {},
   "outputs": [],
   "source": [
    "import numpy as np\n",
    "import pandas as pd"
   ]
  },
  {
   "cell_type": "markdown",
   "metadata": {},
   "source": [
    "## Array generation"
   ]
  },
  {
   "cell_type": "code",
   "execution_count": null,
   "metadata": {},
   "outputs": [],
   "source": [
    "def dump_array(arr):\n",
    "    col_size = len(arr)//3\n",
    "    for i in range(col_size):\n",
    "        print(f\"{arr[i]:.3f} {arr[i+col_size]:.3f} {arr[i+2*col_size]:.3f}\")"
   ]
  },
  {
   "cell_type": "markdown",
   "metadata": {},
   "source": [
    "### Uniform"
   ]
  },
  {
   "cell_type": "code",
   "execution_count": null,
   "metadata": {},
   "outputs": [],
   "source": [
    "uniform = {\n",
    "    18: None,\n",
    "    24: None,\n",
    "    30: None\n",
    "}\n",
    "\n",
    "for n in uniform:\n",
    "    try:\n",
    "        uniform[n] = np.loadtxt(f\"uniform_{n}\")\n",
    "    except (OSError, ValueError):\n",
    "        uniform[n] = np.sort(np.random.uniform(0, 20, n))\n",
    "        np.savetxt(f\"uniform_{n}\", uniform[n])\n",
    "\n",
    "dump_array(uniform[18])\n",
    "print()\n",
    "dump_array(uniform[24])\n",
    "print()\n",
    "dump_array(uniform[30])\n"
   ]
  },
  {
   "cell_type": "markdown",
   "metadata": {},
   "source": [
    "### Exponential"
   ]
  },
  {
   "cell_type": "code",
   "execution_count": null,
   "metadata": {},
   "outputs": [],
   "source": [
    "exponential = {\n",
    "    18: None,\n",
    "    24: None,\n",
    "    30: None\n",
    "}\n",
    "\n",
    "for n in exponential:\n",
    "    try:\n",
    "        exponential[n] = np.loadtxt(f\"exponential_{n}\")\n",
    "    except (OSError, ValueError):\n",
    "        exponential[n] = np.sort(-np.log(np.random.uniform(0, 1, n))/0.1)\n",
    "        np.savetxt(f\"exponential_{n}\", exponential[n])\n",
    "\n",
    "dump_array(exponential[18])\n",
    "print()\n",
    "dump_array(exponential[24])\n",
    "print()\n",
    "dump_array(exponential[30])"
   ]
  },
  {
   "cell_type": "markdown",
   "metadata": {},
   "source": [
    "### Rayleigh"
   ]
  },
  {
   "cell_type": "code",
   "execution_count": null,
   "metadata": {},
   "outputs": [],
   "source": [
    "rayleigh = {\n",
    "    18: None,\n",
    "    24: None,\n",
    "    30: None\n",
    "}\n",
    "\n",
    "for n in rayleigh:\n",
    "    try:\n",
    "        rayleigh[n] = np.loadtxt(f\"rayleigh_{n}\")\n",
    "    except (OSError, ValueError):\n",
    "        rayleigh[n] = np.sort(8.0*np.sqrt(-2*np.log(np.random.uniform(0, 1, n))))\n",
    "        np.savetxt(f\"rayleigh_{n}\", rayleigh[n])\n",
    "\n",
    "dump_array(rayleigh[18])\n",
    "print()\n",
    "dump_array(rayleigh[24])\n",
    "print()\n",
    "dump_array(rayleigh[30])"
   ]
  },
  {
   "cell_type": "markdown",
   "metadata": {},
   "source": [
    "## Calculation"
   ]
  },
  {
   "cell_type": "code",
   "execution_count": null,
   "metadata": {},
   "outputs": [],
   "source": [
    "def process(arr, m_count=6):\n",
    "    A = np.sum(arr * np.arange(1, len(arr)+1))/np.sum(arr)\n",
    "    n = len(arr)\n",
    "    print(f\"{A=:.3f};\\t{n=};\\t{(n+1)/2=}\")\n",
    "    print(f\"{A>(n+1)/2=}\")\n",
    "\n",
    "    def f(m):\n",
    "        return np.sum(1/(m - np.arange(1, len(arr)+1)))\n",
    "\n",
    "    def g(m, A):\n",
    "        return len(arr)/(m-A)\n",
    "\n",
    "    f_m = []\n",
    "    g_m = []\n",
    "    delta_fg = []\n",
    "    for m in range(n+1, n+1+m_count):\n",
    "        f_m.append(f(m))\n",
    "        g_m.append(g(m, A))\n",
    "        delta_fg.append(np.abs(f(m) - g(m,A)))\n",
    "\n",
    "    print(pd.DataFrame(data={\n",
    "        \"f(m)\": f_m,\n",
    "        \"g(m,A)\": g_m,\n",
    "        \"delta\": delta_fg\n",
    "    }, index=range(n+1, n+1+m_count)).round(3))\n",
    "\n",
    "    min_m = n + np.argmin(delta_fg) + 1\n",
    "    B = min_m - 1\n",
    "    print(f\"{min_m=}\")\n",
    "    print(f\"{B=}\")\n",
    "\n",
    "    K = n/np.sum((B-np.arange(1, len(arr)+1)+1)*arr)\n",
    "    print(f\"{K=:.5f}\")\n",
    "\n",
    "    next_arr = []\n",
    "    i = n+1\n",
    "    while len(next_arr) == 0 or next_arr[-1] != np.inf:\n",
    "        next_arr.append(1/(K*(B-(i-1))))\n",
    "        i += 1\n",
    "    next_arr = next_arr[:-1]\n",
    "\n",
    "    print()\n",
    "    print(pd.DataFrame(data={\n",
    "        \"Xi\": next_arr,\n",
    "    }, index=range(n+1, n+1+len(next_arr))).round(3))\n",
    "\n",
    "    print(\"Total test time:\", round(sum(arr) + sum(next_arr), 3))\n",
    "    return B, sum(arr) + sum(next_arr)"
   ]
  },
  {
   "cell_type": "code",
   "execution_count": null,
   "metadata": {},
   "outputs": [],
   "source": [
    "table_B = {\n",
    "    \"uniform\": {18:None, 24:None, 30:None},\n",
    "    \"exponential\": {18:None, 24:None, 30:None},\n",
    "    \"rayleigh\": {18:None, 24:None, 30:None},\n",
    "}\n",
    "\n",
    "table_time = {\n",
    "    \"uniform\": {18:None, 24:None, 30:None},\n",
    "    \"exponential\": {18:None, 24:None, 30:None},\n",
    "    \"rayleigh\": {18:None, 24:None, 30:None},\n",
    "}\n"
   ]
  },
  {
   "cell_type": "markdown",
   "metadata": {},
   "source": [
    "### Uniform"
   ]
  },
  {
   "cell_type": "code",
   "execution_count": null,
   "metadata": {},
   "outputs": [],
   "source": [
    "B, time = process(uniform[18])\n",
    "table_B[\"uniform\"][18] = B\n",
    "table_time[\"uniform\"][18] = time\n"
   ]
  },
  {
   "cell_type": "code",
   "execution_count": null,
   "metadata": {},
   "outputs": [],
   "source": [
    "B, time = process(uniform[24])\n",
    "table_B[\"uniform\"][24] = B\n",
    "table_time[\"uniform\"][24] = time\n"
   ]
  },
  {
   "cell_type": "code",
   "execution_count": null,
   "metadata": {},
   "outputs": [],
   "source": [
    "B, time = process(uniform[30])\n",
    "table_B[\"uniform\"][30] = B\n",
    "table_time[\"uniform\"][30] = time\n"
   ]
  },
  {
   "cell_type": "markdown",
   "metadata": {},
   "source": [
    "### Exponential"
   ]
  },
  {
   "cell_type": "code",
   "execution_count": null,
   "metadata": {},
   "outputs": [],
   "source": [
    "B, time = process(exponential[18])\n",
    "table_B[\"exponential\"][18] = B\n",
    "table_time[\"exponential\"][18] = time\n"
   ]
  },
  {
   "cell_type": "code",
   "execution_count": null,
   "metadata": {},
   "outputs": [],
   "source": [
    "B, time = process(exponential[24])\n",
    "table_B[\"exponential\"][24] = B\n",
    "table_time[\"exponential\"][24] = time\n"
   ]
  },
  {
   "cell_type": "code",
   "execution_count": null,
   "metadata": {},
   "outputs": [],
   "source": [
    "B, time = process(exponential[30])\n",
    "table_B[\"exponential\"][30] = B\n",
    "table_time[\"exponential\"][30] = time\n"
   ]
  },
  {
   "cell_type": "markdown",
   "metadata": {},
   "source": [
    "### Rayleigh"
   ]
  },
  {
   "cell_type": "code",
   "execution_count": null,
   "metadata": {},
   "outputs": [],
   "source": [
    "B, time = process(rayleigh[18])\n",
    "table_B[\"rayleigh\"][18] = B\n",
    "table_time[\"rayleigh\"][18] = time\n"
   ]
  },
  {
   "cell_type": "code",
   "execution_count": null,
   "metadata": {},
   "outputs": [],
   "source": [
    "B, time = process(rayleigh[24], 8)\n",
    "table_B[\"rayleigh\"][24] = B\n",
    "table_time[\"rayleigh\"][24] = time\n"
   ]
  },
  {
   "cell_type": "code",
   "execution_count": null,
   "metadata": {},
   "outputs": [],
   "source": [
    "B, time = process(rayleigh[30], 7)\n",
    "table_B[\"rayleigh\"][30] = B\n",
    "table_time[\"rayleigh\"][30] = time\n"
   ]
  },
  {
   "cell_type": "markdown",
   "metadata": {},
   "source": [
    "## Result"
   ]
  },
  {
   "cell_type": "code",
   "execution_count": null,
   "metadata": {},
   "outputs": [],
   "source": [
    "pd.DataFrame(data=table_B)"
   ]
  },
  {
   "cell_type": "code",
   "execution_count": null,
   "metadata": {},
   "outputs": [],
   "source": [
    "pd.DataFrame(data=table_time)"
   ]
  }
 ],
 "metadata": {
  "interpreter": {
   "hash": "cef0faf2ba9cdedfbb634571b266b4f56892d817403c578b4b7cc3c78c300ff1"
  },
  "kernelspec": {
   "display_name": "Python 3.9.10 64-bit (windows store)",
   "language": "python",
   "name": "python3"
  },
  "language_info": {
   "codemirror_mode": {
    "name": "ipython",
    "version": 3
   },
   "file_extension": ".py",
   "mimetype": "text/x-python",
   "name": "python",
   "nbconvert_exporter": "python",
   "pygments_lexer": "ipython3",
   "version": "3.9.10"
  },
  "orig_nbformat": 4
 },
 "nbformat": 4,
 "nbformat_minor": 2
}
