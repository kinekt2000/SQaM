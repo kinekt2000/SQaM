{
 "cells": [
  {
   "cell_type": "code",
   "execution_count": 20,
   "metadata": {},
   "outputs": [],
   "source": [
    "import numpy as np\n",
    "from scipy import integrate"
   ]
  },
  {
   "cell_type": "code",
   "execution_count": 21,
   "metadata": {},
   "outputs": [
    {
     "name": "stdout",
     "output_type": "stream",
     "text": [
      "0.0001293\n"
     ]
    }
   ],
   "source": [
    "lambda_1 = 2.28 * 1e-5\n",
    "lambda_2 = 2.85 * 1e-5\n",
    "lambda_3 = 4.0  * 1e-5\n",
    "lambda_4 = 3.8  * 1e-5\n",
    "\n",
    "print(lambda_1 + lambda_2 + lambda_3 + lambda_4)\n",
    "\n",
    "lambda_N2 = 4.0 * 1e-5\n",
    "\n",
    "lambda_N3 = 2.8 * 1e-5\n"
   ]
  },
  {
   "cell_type": "code",
   "execution_count": 22,
   "metadata": {},
   "outputs": [],
   "source": [
    "def R_N1(t):\n",
    "    l = lambda_1 + lambda_2 + lambda_3 + lambda_4\n",
    "    return np.exp(-l*t)\n",
    "\n",
    "def R_N2(t):\n",
    "    return 1 -\\\n",
    "        (1 - np.exp(-2*lambda_N2*t)) *\\\n",
    "        (1 - np.exp(-lambda_N2*t))\n",
    "\n",
    "def R_N3(t):\n",
    "    return 1 - np.square(1 - np.exp(-lambda_N3*t))\n",
    "\n",
    "def R_super(t):\n",
    "    return R_N1(t)*R_N2(t)*R_N3(t)\n"
   ]
  },
  {
   "cell_type": "code",
   "execution_count": 25,
   "metadata": {},
   "outputs": [
    {
     "name": "stdout",
     "output_type": "stream",
     "text": [
      "0.9997414334340979\n",
      "0.9999999872015359\n",
      "0.9999999968641756\n",
      "0.9997414175039296\n"
     ]
    }
   ],
   "source": [
    "print(R_N1(2))\n",
    "print(R_N2(2))\n",
    "print(R_N3(2))\n",
    "\n",
    "print(R_N1(2)*R_N2(2)*R_N3(2))\n"
   ]
  },
  {
   "cell_type": "code",
   "execution_count": 23,
   "metadata": {},
   "outputs": [
    {
     "data": {
      "text/plain": [
       "(6420.214715630142, 8.624068059733675e-06)"
      ]
     },
     "execution_count": 23,
     "metadata": {},
     "output_type": "execute_result"
    }
   ],
   "source": [
    "MTTF = integrate.quad(R_super, 0, np.Infinity)\n",
    "MTTF\n"
   ]
  }
 ],
 "metadata": {
  "interpreter": {
   "hash": "cef0faf2ba9cdedfbb634571b266b4f56892d817403c578b4b7cc3c78c300ff1"
  },
  "kernelspec": {
   "display_name": "Python 3.9.10 64-bit (windows store)",
   "language": "python",
   "name": "python3"
  },
  "language_info": {
   "codemirror_mode": {
    "name": "ipython",
    "version": 3
   },
   "file_extension": ".py",
   "mimetype": "text/x-python",
   "name": "python",
   "nbconvert_exporter": "python",
   "pygments_lexer": "ipython3",
   "version": "3.9.10"
  },
  "orig_nbformat": 4
 },
 "nbformat": 4,
 "nbformat_minor": 2
}
